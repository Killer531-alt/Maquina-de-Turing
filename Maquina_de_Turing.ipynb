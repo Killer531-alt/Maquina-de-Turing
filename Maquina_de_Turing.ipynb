{
  "nbformat": 4,
  "nbformat_minor": 0,
  "metadata": {
    "colab": {
      "provenance": [],
      "authorship_tag": "ABX9TyPfIemRelKkaA1Af5EOV/2g",
      "include_colab_link": true
    },
    "kernelspec": {
      "name": "python3",
      "display_name": "Python 3"
    },
    "language_info": {
      "name": "python"
    }
  },
  "cells": [
    {
      "cell_type": "markdown",
      "metadata": {
        "id": "view-in-github",
        "colab_type": "text"
      },
      "source": [
        "<a href=\"https://colab.research.google.com/github/Killer531-alt/Maquina-de-Turing/blob/main/Maquina_de_Turing.ipynb\" target=\"_parent\"><img src=\"https://colab.research.google.com/assets/colab-badge.svg\" alt=\"Open In Colab\"/></a>"
      ]
    },
    {
      "cell_type": "markdown",
      "source": [
        "## 1. Introducción\n",
        "\n",
        "Una Máquina de Turing es un modelo teórico de computación propuesto por Alan Turing en 1936. Aunque es abstracta, sienta las bases de la computación moderna. En este proyecto, simularemos una máquina de Turing mediante algoritmos básicos que reproducen operaciones matemáticas fundamentales como si se realizaran paso a paso en una máquina primitiva."
      ],
      "metadata": {
        "id": "2ILV6aYwU0yu"
      }
    },
    {
      "cell_type": "markdown",
      "source": [
        "# Proyecto: Máquina de Turing Simulada en Python\n",
        "\n",
        "Este proyecto implementa una **simulación avanzada de una Máquina de Turing** en Python para realizar operaciones aritméticas básicas: **suma, resta, multiplicación, división, potenciación y raíz cuadrada**.\n",
        "\n",
        "### Objetivos del Proyecto\n",
        "\n",
        "- Comprender el modelo de Máquina de Turing y su importancia en la informática.\n",
        "- Implementar operaciones matemáticas simulando los pasos que seguiría una máquina primitiva.\n",
        "- Utilizar Python como herramienta de desarrollo.\n",
        "- Aplicar buenas prácticas de diseño, colaboración, documentación y pruebas.\n",
        "\n",
        "### Trabajo en equipo\n",
        "\n",
        "Se recomienda trabajar en grupos de hasta 3 personas, distribuyendo roles como:\n",
        "\n",
        "- Programador principal\n",
        "- Diseñador lógico (pseudocódigo y diagramas)\n",
        "- Tester/documentador\n"
      ],
      "metadata": {
        "id": "yKAfT-xGVmkk"
      }
    },
    {
      "cell_type": "code",
      "execution_count": 4,
      "metadata": {
        "id": "zn_MVb-fUhG7"
      },
      "outputs": [],
      "source": [
        "# ---------------------------------------------\n",
        "# Simulación de una Máquina de Turing en Python\n",
        "# Autor: Johan David Baracaldo Caicedo\n",
        "# Fecha: 2025-08-21\n",
        "# ---------------------------------------------\n",
        "\n",
        "class MaquinaDeTuring:\n",
        "    def __init__(self):\n",
        "        print(\"Máquina de Turing inicializada\")\n",
        "\n",
        "    def sumar(self, a: int, b: int) -> int:\n",
        "        \"\"\"Simula la suma como incrementos sucesivos.\"\"\"\n",
        "        resultado = a\n",
        "        paso = 1 if b > 0 else -1\n",
        "        for _ in range(abs(b)):\n",
        "            resultado += paso\n",
        "        return resultado\n",
        "\n",
        "    def restar(self, a: int, b: int) -> int:\n",
        "        \"\"\"Simula la resta como decrementos sucesivos.\"\"\"\n",
        "        resultado = a\n",
        "        paso = -1 if b > 0 else 1\n",
        "        for _ in range(abs(b)):\n",
        "            resultado += paso\n",
        "        return resultado\n",
        "\n",
        "    def multiplicar(self, a: int, b: int) -> int:\n",
        "        \"\"\"Simula la multiplicación como suma repetida.\"\"\"\n",
        "        negativo = (a < 0) ^ (b < 0)\n",
        "        a, b = abs(a), abs(b)\n",
        "        resultado = 0\n",
        "        for _ in range(b):\n",
        "            resultado = self.sumar(resultado, a)\n",
        "        return -resultado if negativo else resultado\n",
        "\n",
        "    def dividir(self, a: int, b: int):\n",
        "        \"\"\"Simula la división como restas repetidas.\"\"\"\n",
        "        if b == 0:\n",
        "            return \"Error: División por cero\"\n",
        "        negativo = (a < 0) ^ (b < 0)\n",
        "        a, b = abs(a), abs(b)\n",
        "        cociente = 0\n",
        "        while a >= b:\n",
        "            a = self.restar(a, b)\n",
        "            cociente = self.sumar(cociente, 1)\n",
        "        return -cociente if negativo else cociente\n",
        "\n",
        "    def potenciar(self, base: int, exponente: int):\n",
        "        \"\"\"Simula la potenciación como multiplicaciones repetidas.\"\"\"\n",
        "        if exponente < 0:\n",
        "            return \"Error: Exponente negativo no soportado\"\n",
        "        resultado = 1\n",
        "        for _ in range(exponente):\n",
        "            resultado = self.multiplicar(resultado, base)\n",
        "        return resultado\n",
        "\n",
        "    def raiz_cuadrada(self, numero: int):\n",
        "        \"\"\"Simula la raíz cuadrada como búsqueda sucesiva.\"\"\"\n",
        "        if numero < 0:\n",
        "            return \"Error: Raíz de número negativo no soportada\"\n",
        "        resultado = 0\n",
        "        while self.multiplicar(resultado + 1, resultado + 1) <= numero:\n",
        "            resultado = self.sumar(resultado, 1)\n",
        "        return resultado\n"
      ]
    },
    {
      "cell_type": "code",
      "source": [
        "# ---------------------------------------------------------------\n",
        "# Casos de prueba para validar todas las operaciones\n",
        "# ---------------------------------------------------------------\n",
        "\n",
        "mt = MaquinaDeTuring()\n",
        "\n",
        "print(\"\\nSUMA\")\n",
        "print(\"3 + 5 =\", mt.sumar(3, 5))             # 8\n",
        "print(\"-2 + 4 =\", mt.sumar(-2, 4))           # 2\n",
        "print(\"0 + 0 =\", mt.sumar(0, 0))             # 0\n",
        "\n",
        "print(\"\\nRESTA\")\n",
        "print(\"10 - 4 =\", mt.restar(10, 4))          # 6\n",
        "print(\"4 - 10 =\", mt.restar(4, 10))          # -6\n",
        "print(\"0 - 0 =\", mt.restar(0, 0))            # 0\n",
        "\n",
        "print(\"\\nMULTIPLICACIÓN\")\n",
        "print(\"7 * 6 =\", mt.multiplicar(7, 6))       # 42\n",
        "print(\"-3 * 5 =\", mt.multiplicar(-3, 5))     # -15\n",
        "print(\"-3 * -2 =\", mt.multiplicar(-3, -2))   # 6\n",
        "\n",
        "print(\"\\nDIVISIÓN\")\n",
        "print(\"20 / 4 =\", mt.dividir(20, 4))         # 5\n",
        "print(\"10 / 0 =\", mt.dividir(10, 0))         # Error\n",
        "print(\"-15 / 3 =\", mt.dividir(-15, 3))       # -5\n",
        "\n",
        "print(\"\\n⬆POTENCIACIÓN\")\n",
        "print(\"2 ^ 3 =\", mt.potenciar(2, 3))         # 8\n",
        "print(\"5 ^ 0 =\", mt.potenciar(5, 0))         # 1\n",
        "print(\"2 ^ -1 =\", mt.potenciar(2, -1))       # Error\n",
        "\n",
        "print(\"\\nRAÍZ CUADRADA\")\n",
        "print(\"√16 =\", mt.raiz_cuadrada(16))         # 4\n",
        "print(\"√20 =\", mt.raiz_cuadrada(20))         # 4\n",
        "print(\"√-9 =\", mt.raiz_cuadrada(-9))         # Error\n"
      ],
      "metadata": {
        "colab": {
          "base_uri": "https://localhost:8080/"
        },
        "id": "Uuf4afvtV0hU",
        "outputId": "4b743402-c807-49b6-f82e-963ff2e7ee51"
      },
      "execution_count": 5,
      "outputs": [
        {
          "output_type": "stream",
          "name": "stdout",
          "text": [
            "Máquina de Turing inicializada\n",
            "\n",
            "SUMA\n",
            "3 + 5 = 8\n",
            "-2 + 4 = 2\n",
            "0 + 0 = 0\n",
            "\n",
            "RESTA\n",
            "10 - 4 = 6\n",
            "4 - 10 = -6\n",
            "0 - 0 = 0\n",
            "\n",
            "MULTIPLICACIÓN\n",
            "7 * 6 = 42\n",
            "-3 * 5 = -15\n",
            "-3 * -2 = 6\n",
            "\n",
            "DIVISIÓN\n",
            "20 / 4 = 5\n",
            "10 / 0 = Error: División por cero\n",
            "-15 / 3 = -5\n",
            "\n",
            "⬆POTENCIACIÓN\n",
            "2 ^ 3 = 8\n",
            "5 ^ 0 = 1\n",
            "2 ^ -1 = Error: Exponente negativo no soportado\n",
            "\n",
            "RAÍZ CUADRADA\n",
            "√16 = 4\n",
            "√20 = 4\n",
            "√-9 = Error: Raíz de número negativo no soportada\n"
          ]
        }
      ]
    },
    {
      "cell_type": "markdown",
      "source": [
        "# 📄 Pseudocódigo de operaciones\n",
        "\n",
        "## Sumar(a, b)\n",
        "resultado ← a  \n",
        "si b > 0 entonces  \n",
        "  repetir b veces: resultado ← resultado + 1  \n",
        "si b < 0 entonces  \n",
        "  repetir |b| veces: resultado ← resultado - 1  \n",
        "retornar resultado\n",
        "\n",
        "## Restar(a, b)\n",
        "resultado ← a  \n",
        "si b > 0 entonces  \n",
        "  repetir b veces: resultado ← resultado - 1  \n",
        "si b < 0 entonces  \n",
        "  repetir |b| veces: resultado ← resultado + 1  \n",
        "retornar resultado\n",
        "\n",
        "## Multiplicar(a, b)\n",
        "resultado ← 0  \n",
        "para i en 1 hasta |b|  \n",
        "  resultado ← resultado + |a|  \n",
        "si signos de a y b son diferentes  \n",
        "  resultado ← -resultado  \n",
        "retornar resultado\n",
        "\n",
        "## Dividir(a, b)\n",
        "si b = 0  \n",
        "  retornar error  \n",
        "resultado ← 0  \n",
        "mientras a ≥ b  \n",
        "  a ← a - b  \n",
        "  resultado ← resultado + 1  \n",
        "ajustar signo si necesario  \n",
        "retornar resultado\n",
        "\n",
        "## Potenciar(base, exponente)\n",
        "resultado ← 1  \n",
        "para i en 1 hasta exponente  \n",
        "  resultado ← resultado * base  \n",
        "retornar resultado\n",
        "\n",
        "## Raíz cuadrada(número)\n",
        "resultado ← 0  \n",
        "mientras (resultado + 1)^2 ≤ número  \n",
        "  resultado ← resultado + 1  \n",
        "retornar resultado\n"
      ],
      "metadata": {
        "id": "wnIv7HmYV8jT"
      }
    }
  ]
}